{
  "nbformat": 4,
  "nbformat_minor": 0,
  "metadata": {
    "colab": {
      "provenance": [],
      "authorship_tag": "ABX9TyN//C3sjcgo7PGROUzPNR3n",
      "include_colab_link": true
    },
    "kernelspec": {
      "name": "python3",
      "display_name": "Python 3"
    },
    "language_info": {
      "name": "python"
    }
  },
  "cells": [
    {
      "cell_type": "markdown",
      "metadata": {
        "id": "view-in-github",
        "colab_type": "text"
      },
      "source": [
        "<a href=\"https://colab.research.google.com/github/Goutham1812/Goutham1812/blob/Python/Word_guess_Game.ipynb\" target=\"_parent\"><img src=\"https://colab.research.google.com/assets/colab-badge.svg\" alt=\"Open In Colab\"/></a>"
      ]
    },
    {
      "cell_type": "code",
      "source": [
        "import random\n",
        "\n",
        "words = ['apple', 'dog', 'amazon', 'oracle', 'cat']\n",
        "\n",
        "guessed_word = random.choice(words)\n",
        "hint = guessed_word[0] + guessed_word[2]\n",
        "\n",
        "print(\"Chosen word:\", guessed_word)\n",
        "print(\"Hint:\", hint)\n"
      ],
      "metadata": {
        "colab": {
          "base_uri": "https://localhost:8080/"
        },
        "id": "nJrUQ1VWHs-A",
        "outputId": "31617c83-11e0-4bc6-ee99-5090b4b0c17b"
      },
      "execution_count": 52,
      "outputs": [
        {
          "output_type": "stream",
          "name": "stdout",
          "text": [
            "Chosen word: apple\n",
            "Hint: ap\n"
          ]
        }
      ]
    },
    {
      "cell_type": "code",
      "source": [
        "f=[]\n",
        "try_p= 6               #6 attempts to find the solution.\n",
        "Name = input(\"enter your name:\")\n",
        "print(\"welcome to the game of world\",Name)\n",
        "print(\"you have 6 attempts to find\")"
      ],
      "metadata": {
        "colab": {
          "base_uri": "https://localhost:8080/"
        },
        "id": "if6g8zlyIkjm",
        "outputId": "c3362647-2f9d-473e-995a-eea81282d04d"
      },
      "execution_count": 78,
      "outputs": [
        {
          "output_type": "stream",
          "name": "stdout",
          "text": [
            "enter your name:Goutham\n",
            "welcome to the game of world Goutham\n",
            "you have 6 attempts to find\n"
          ]
        }
      ]
    },
    {
      "cell_type": "code",
      "source": [
        "f = []\n",
        "try_p = 6\n",
        "\n",
        "for guess in range(try_p):\n",
        "    while True:\n",
        "        letter = input(\"Guess the letter: \")\n",
        "\n",
        "        if len(letter) == 1:\n",
        "            break\n",
        "        else:\n",
        "            print(\"Oops! Please guess a single letter.\")\n",
        "\n",
        "    if letter in guessed_word:\n",
        "        print(\"Yes!\")\n",
        "        # Update the revealed word based on correct guesses\n",
        "        revealed_word = ''.join([char if char == letter or char in f else '_' for char in guessed_word])\n",
        "        print(\"Current progress:\", revealed_word)\n",
        "\n",
        "        if '_' not in revealed_word:\n",
        "            print(\"Congratulations! You guessed the word:\", guessed_word)\n",
        "            break\n",
        "    else:\n",
        "        print(\"Not\")\n",
        "        f.append(letter)\n",
        "\n",
        "    if guess == 3:\n",
        "        print()\n",
        "        clue_request = input(\"Would you like a clue? \")\n",
        "        if clue_request.lower().startswith(\"y\"):\n",
        "            print()\n",
        "            print(\"Clue: The first and last letter of the word are:\", hint)\n",
        "        else:\n",
        "            print(\"You are very confident\")\n",
        "\n",
        "print(\"Game over. The correct word was:\", guessed_word)\n",
        "\n"
      ],
      "metadata": {
        "colab": {
          "base_uri": "https://localhost:8080/"
        },
        "id": "fLxZ-3hgNB-i",
        "outputId": "983d0951-f4a2-498c-f3a0-94fb046d0293"
      },
      "execution_count": null,
      "outputs": [
        {
          "output_type": "stream",
          "name": "stdout",
          "text": [
            "Guess the letter: x\n",
            "Not\n",
            "Guess the letter: \n",
            "Oops! Please guess a single letter.\n",
            "Guess the letter: a\n",
            "Not\n",
            "Guess the letter: d\n",
            "Yes!\n",
            "Current progress: d__\n",
            "Guess the letter: o\n",
            "Yes!\n",
            "Current progress: _o_\n",
            "\n",
            "Would you like a clue? \n",
            "You are very confident\n",
            "Guess the letter: g\n",
            "Yes!\n",
            "Current progress: __g\n",
            "Guess the letter: dog\n",
            "Oops! Please guess a single letter.\n"
          ]
        }
      ]
    },
    {
      "cell_type": "code",
      "source": [],
      "metadata": {
        "id": "bg43BKOVPLAb"
      },
      "execution_count": 118,
      "outputs": []
    }
  ]
}