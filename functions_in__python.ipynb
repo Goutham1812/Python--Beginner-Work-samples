{
  "nbformat": 4,
  "nbformat_minor": 0,
  "metadata": {
    "colab": {
      "provenance": [],
      "authorship_tag": "ABX9TyOrRwHdnhw16eeOk1a14Pom",
      "include_colab_link": true
    },
    "kernelspec": {
      "name": "python3",
      "display_name": "Python 3"
    },
    "language_info": {
      "name": "python"
    }
  },
  "cells": [
    {
      "cell_type": "markdown",
      "metadata": {
        "id": "view-in-github",
        "colab_type": "text"
      },
      "source": [
        "<a href=\"https://colab.research.google.com/github/Goutham1812/Goutham1812/blob/Python/functions_in__python.ipynb\" target=\"_parent\"><img src=\"https://colab.research.google.com/assets/colab-badge.svg\" alt=\"Open In Colab\"/></a>"
      ]
    },
    {
      "cell_type": "code",
      "execution_count": null,
      "metadata": {
        "colab": {
          "base_uri": "https://localhost:8080/"
        },
        "id": "tR04L3PpBgb7",
        "outputId": "19e6b1e3-b5cc-4ccd-bac0-ad5f96943313"
      },
      "outputs": [
        {
          "output_type": "stream",
          "name": "stdout",
          "text": [
            "Hello World\n"
          ]
        }
      ],
      "source": [
        "def hello():                          #Declaring the Function\n",
        "  print(\"Hello World\")\n",
        "\n",
        "hello()                               # Calling/ Work with the function"
      ]
    },
    {
      "cell_type": "markdown",
      "source": [
        "Function With Parameter"
      ],
      "metadata": {
        "id": "r11l7pOPC0Xg"
      }
    },
    {
      "cell_type": "code",
      "source": [
        "def add10(x):\n",
        "  return x+10\n",
        "\n",
        "add10(10)               #add10 is the name of the function and in brackets we are passing the values\n"
      ],
      "metadata": {
        "colab": {
          "base_uri": "https://localhost:8080/"
        },
        "id": "-npwZNg_C59A",
        "outputId": "7dd3029e-651b-4959-bcc0-50288b1084dd"
      },
      "execution_count": null,
      "outputs": [
        {
          "output_type": "execute_result",
          "data": {
            "text/plain": [
              "20"
            ]
          },
          "metadata": {},
          "execution_count": 16
        }
      ]
    },
    {
      "cell_type": "code",
      "source": [
        "#To Check Even or odd with if clause, using the def function we no need to type 4 lines of syntax for that once we use the fucntion and then we can call when ever we needed\n",
        "\n",
        "\n",
        "def even_odd(x):                                      # even_odd is the name of the function\n",
        "  if x%2==0:\n",
        "    print(x, \"It is a even number\")\n",
        "  else:\n",
        "    print(x,\"It is an odd number\")\n",
        "\n",
        "\n",
        "  # To find the the even_odd\n",
        "\n",
        "even_odd(22)\n",
        "\n"
      ],
      "metadata": {
        "colab": {
          "base_uri": "https://localhost:8080/"
        },
        "id": "Avas4G7qDy3S",
        "outputId": "01395cc8-c1a9-4eec-c8d5-62aecd3841ed"
      },
      "execution_count": null,
      "outputs": [
        {
          "output_type": "stream",
          "name": "stdout",
          "text": [
            "22 It is a even number\n"
          ]
        }
      ]
    },
    {
      "cell_type": "code",
      "source": [
        "\n",
        "# Lambda Functions\n",
        "\n",
        "g= lambda x: x*x*x\n",
        "print (g(5) )\n"
      ],
      "metadata": {
        "colab": {
          "base_uri": "https://localhost:8080/"
        },
        "id": "fMt11LsbISDJ",
        "outputId": "6c42d726-2edc-455c-a792-0eec709c18dc"
      },
      "execution_count": null,
      "outputs": [
        {
          "output_type": "stream",
          "name": "stdout",
          "text": [
            "125\n"
          ]
        }
      ]
    },
    {
      "cell_type": "code",
      "source": [
        "# lambda functions with filter\n",
        "\n",
        "l1= [1,554,63.25,253,22]\n",
        "final_list = list(filter(lambda x: (x%2 !=0),l1))\n",
        "print(final_list)"
      ],
      "metadata": {
        "colab": {
          "base_uri": "https://localhost:8080/"
        },
        "id": "p74Qh16vJNQb",
        "outputId": "09207a5b-c776-4adf-f22e-6183a4654abd"
      },
      "execution_count": null,
      "outputs": [
        {
          "output_type": "stream",
          "name": "stdout",
          "text": [
            "[1, 63.25, 253]\n"
          ]
        }
      ]
    },
    {
      "cell_type": "code",
      "source": [
        "# Lambda functions with map\n",
        "\n",
        "l1 = [5,22,365,25,12,23.5,33.6,650,21,5,24,67,98]\n",
        "final_list= list(map(lambda x: x*2,l1))            # with or wothout brackets inside the lambda function it can run\n",
        "print(final_list)"
      ],
      "metadata": {
        "colab": {
          "base_uri": "https://localhost:8080/"
        },
        "id": "so5tTrPqKsWK",
        "outputId": "cca6388b-b72d-4985-c6c0-f9726387adfa"
      },
      "execution_count": null,
      "outputs": [
        {
          "output_type": "stream",
          "name": "stdout",
          "text": [
            "[10, 44, 730, 50, 24, 47.0, 67.2, 1300, 42, 10, 48, 134, 196]\n"
          ]
        }
      ]
    },
    {
      "cell_type": "code",
      "source": [
        "from functools import reduce\n",
        "l1=[5,66,15,24,26,98]\n",
        "sum = reduce((lambda x,y: x+y),l1)\n",
        "print (sum)"
      ],
      "metadata": {
        "colab": {
          "base_uri": "https://localhost:8080/"
        },
        "id": "sCSQljniM6Yo",
        "outputId": "be350562-50e0-4d59-ba8a-7d333bfd19c9"
      },
      "execution_count": null,
      "outputs": [
        {
          "output_type": "stream",
          "name": "stdout",
          "text": [
            "234\n"
          ]
        }
      ]
    }
  ]
}