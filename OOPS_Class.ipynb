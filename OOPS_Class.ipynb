{
  "nbformat": 4,
  "nbformat_minor": 0,
  "metadata": {
    "colab": {
      "provenance": [],
      "authorship_tag": "ABX9TyPW+Khm50+ebJ2vUVjD1qLh",
      "include_colab_link": true
    },
    "kernelspec": {
      "name": "python3",
      "display_name": "Python 3"
    },
    "language_info": {
      "name": "python"
    }
  },
  "cells": [
    {
      "cell_type": "markdown",
      "metadata": {
        "id": "view-in-github",
        "colab_type": "text"
      },
      "source": [
        "<a href=\"https://colab.research.google.com/github/Goutham1812/Goutham1812/blob/Python/OOPS_Class.ipynb\" target=\"_parent\"><img src=\"https://colab.research.google.com/assets/colab-badge.svg\" alt=\"Open In Colab\"/></a>"
      ]
    },
    {
      "cell_type": "code",
      "execution_count": 3,
      "metadata": {
        "colab": {
          "base_uri": "https://localhost:8080/"
        },
        "id": "C3SWeEwhQJQ9",
        "outputId": "c4289ecf-1ca3-4193-8e97-f227d118e005"
      },
      "outputs": [
        {
          "output_type": "stream",
          "name": "stdout",
          "text": [
            "making a call\n"
          ]
        }
      ],
      "source": [
        "# Creating the First class\n",
        "\n",
        "class Phone:\n",
        "\n",
        "  def  make_call(self):\n",
        "    print(\"making a call\")                            # Creating a Phone class\n",
        "\n",
        "  def play_game(self):\n",
        "    print(\"playing game\")\n",
        "\n",
        "\n",
        "p1= Phone()                                            #instating that p1= Phone()\n",
        "\n",
        "\n",
        "\n",
        "#Invoking the methods through object                   #using the assigned names to call the functions with dot operator like p1.inside value to retrive the data\n",
        "\n",
        "p1.make_call()\n"
      ]
    },
    {
      "cell_type": "code",
      "source": [],
      "metadata": {
        "id": "rxLC4dGgbkBY"
      },
      "execution_count": null,
      "outputs": []
    },
    {
      "cell_type": "code",
      "source": [
        "p1.play_game()"
      ],
      "metadata": {
        "colab": {
          "base_uri": "https://localhost:8080/"
        },
        "id": "H6YgjgMOSt2W",
        "outputId": "6bce55b6-1cc4-48da-f009-c7cc9da7f3bd"
      },
      "execution_count": 4,
      "outputs": [
        {
          "output_type": "stream",
          "name": "stdout",
          "text": [
            "playing game\n"
          ]
        }
      ]
    },
    {
      "cell_type": "code",
      "source": [
        "#\n",
        "#"
      ],
      "metadata": {
        "id": "JC_HwKrYboIP"
      },
      "execution_count": 5,
      "outputs": []
    },
    {
      "cell_type": "code",
      "source": [
        "#"
      ],
      "metadata": {
        "id": "dKF43YegcdFV"
      },
      "execution_count": 6,
      "outputs": []
    },
    {
      "cell_type": "code",
      "source": [
        "#"
      ],
      "metadata": {
        "id": "BPXU2f2hcdPc"
      },
      "execution_count": 7,
      "outputs": []
    },
    {
      "cell_type": "code",
      "source": [
        "#creating a class with constructor\n",
        "\n",
        "#  init acts as a constructor\n",
        "\n",
        "class Employee:\n",
        "     def __init__(self, name, age, salary, gender):\n",
        "         self.name = name\n",
        "         self.age = age\n",
        "         self.salary = salary\n",
        "         self.gender = gender\n",
        "     def show_details(self):                                                            #Creating the attributes\n",
        "         print(\"The Name of Employee is \",self.name)\n",
        "         print(\"The age of Employee is\",self.age)\n",
        "         print(\"Salary of Employee is\",self.salary)\n",
        "         print(\"Gender of Employee is\",self.gender)\n",
        "\n",
        "#Creating the object/ details of employee with values\n",
        "\n",
        "e1 = Employee(\"Goutham\", 25, 35000, \"Male\")\n",
        "\n",
        "e1.show_details()\n"
      ],
      "metadata": {
        "colab": {
          "base_uri": "https://localhost:8080/"
        },
        "id": "yznChAlmcdZ0",
        "outputId": "2613bdd6-0262-47b7-bcf3-5e5a616c3ca4"
      },
      "execution_count": 27,
      "outputs": [
        {
          "output_type": "stream",
          "name": "stdout",
          "text": [
            "The Name of Employee is  Goutham\n",
            "The age of Employee is 25\n",
            "Salary of Employee is 35000\n",
            "Gender of Employee is Male\n"
          ]
        }
      ]
    },
    {
      "cell_type": "code",
      "source": [
        "# inheritance in python\n",
        "\n",
        "class Vehicle:\n",
        "  def __init__(self, milage,cost):\n",
        "    self.milage=milage\n",
        "    self.cost=cost\n",
        "  def show_details(self):\n",
        "    print(\"I am a vehicle\")\n",
        "    print(\"milage of vehicle is\",self.milage)\n",
        "    print(\"cost of the vehicle is\",self.cost)\n",
        "\n",
        ""
      ],
      "metadata": {
        "id": "j8o2nLEnkpR5"
      },
      "execution_count": 29,
      "outputs": []
    },
    {
      "cell_type": "code",
      "source": [
        "v1 = Vehicle(50,1500)\n",
        "v1.show_details()\n"
      ],
      "metadata": {
        "colab": {
          "base_uri": "https://localhost:8080/"
        },
        "id": "TAqxoWFXkm9R",
        "outputId": "960462e9-26b9-4d6c-888c-6dd150c94e19"
      },
      "execution_count": 31,
      "outputs": [
        {
          "output_type": "stream",
          "name": "stdout",
          "text": [
            "I am a vehicle\n",
            "milage of vehicle is 50\n",
            "cost of the vehicle is 1500\n"
          ]
        }
      ]
    },
    {
      "cell_type": "code",
      "source": [
        "class car(Vehicle):\n",
        "  def show_car_details(self):\n",
        "    print(\"I am a car\")\n",
        ""
      ],
      "metadata": {
        "id": "6kpU2kuwmKZ2"
      },
      "execution_count": 32,
      "outputs": []
    },
    {
      "cell_type": "code",
      "source": [
        "c1=car(26,28000)\n",
        "c1.show_details()\n"
      ],
      "metadata": {
        "colab": {
          "base_uri": "https://localhost:8080/"
        },
        "id": "w3xgx8ssmuzo",
        "outputId": "811671a1-c4c6-42e8-8608-d698dbab8196"
      },
      "execution_count": 34,
      "outputs": [
        {
          "output_type": "stream",
          "name": "stdout",
          "text": [
            "I am a vehicle\n",
            "milage of vehicle is 26\n",
            "cost of the vehicle is 28000\n"
          ]
        }
      ]
    },
    {
      "cell_type": "code",
      "source": [
        "# over riding  init method\n",
        "\n",
        "class car(Vehicle):\n",
        "  def __init__(self,milage,cost,tyres,hp):\n",
        "    super().__init__(milage,cost)                         ####he super() function in Python is used to call a method from the parent class.\n",
        "    self.tyres = tyres\n",
        "    self.hp =hp\n",
        "\n",
        "  def show_car_details(self):\n",
        "    print(\"I am a car\")\n",
        "    print(\"Number of Tyres\",self.tyres)\n",
        "    print(\"Horse Power Value\",self.hp)\n"
      ],
      "metadata": {
        "id": "dves4ISNnQ4h"
      },
      "execution_count": 37,
      "outputs": []
    },
    {
      "cell_type": "code",
      "source": [],
      "metadata": {
        "id": "fFqkJffopkIx"
      },
      "execution_count": null,
      "outputs": []
    },
    {
      "cell_type": "code",
      "source": [
        "c1=car(20,2560000,4,350)\n",
        "c1.show_details()"
      ],
      "metadata": {
        "colab": {
          "base_uri": "https://localhost:8080/"
        },
        "id": "JPJordvgn8s9",
        "outputId": "b822aa66-55c7-4af6-a8a4-922e12b1ccb1"
      },
      "execution_count": 39,
      "outputs": [
        {
          "output_type": "stream",
          "name": "stdout",
          "text": [
            "I am a vehicle\n",
            "milage of vehicle is 20\n",
            "cost of the vehicle is 2560000\n"
          ]
        }
      ]
    },
    {
      "cell_type": "code",
      "source": [
        "c1.show_car_details()\n"
      ],
      "metadata": {
        "colab": {
          "base_uri": "https://localhost:8080/"
        },
        "id": "7tmj7czGoq6m",
        "outputId": "faca4173-93a5-419e-ba63-805d70262ca7"
      },
      "execution_count": 41,
      "outputs": [
        {
          "output_type": "stream",
          "name": "stdout",
          "text": [
            "I am a car\n",
            "Number of Tyres 4\n",
            "Horse Power Value 350\n"
          ]
        }
      ]
    },
    {
      "cell_type": "code",
      "source": [
        "#  Example of inheritance with parent, child and super clause\n",
        "\n",
        "\n",
        "\n",
        "\n",
        "class Parent:\n",
        "    def __init__(self, name):\n",
        "        self.name = name\n",
        "\n",
        "    def display_info(self):\n",
        "        print(\"Name:\", self.name)\n",
        "\n",
        "\n",
        "class Child(Parent):\n",
        "    def __init__(self, name, age):\n",
        "        super().__init__(name)\n",
        "        self.age = age\n",
        "\n",
        "    def display_info(self):\n",
        "        super().display_info()  # Call the display_info method from the parent class\n",
        "        print(\"Age:\", self.age)\n",
        "\n",
        "\n",
        "# Creating an instance of the Child class\n",
        "child_obj = Child(\"John\", 25)\n",
        "\n",
        "# Calling the display_info method of the Child class\n",
        "child_obj.display_info()\n"
      ],
      "metadata": {
        "colab": {
          "base_uri": "https://localhost:8080/"
        },
        "id": "zW-XWz4Ipl9a",
        "outputId": "a937c4b2-26df-477a-a3b4-b86c7df827d2"
      },
      "execution_count": 43,
      "outputs": [
        {
          "output_type": "stream",
          "name": "stdout",
          "text": [
            "Name: John\n",
            "Age: 25\n"
          ]
        }
      ]
    }
  ]
}