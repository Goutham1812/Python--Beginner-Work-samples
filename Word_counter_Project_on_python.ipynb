{
  "nbformat": 4,
  "nbformat_minor": 0,
  "metadata": {
    "colab": {
      "provenance": [],
      "mount_file_id": "1itax47mjm6T5o-7AhZndLwPyAq0DLNy6",
      "authorship_tag": "ABX9TyNKW/mVVs3wC9lv+sSZTP5H",
      "include_colab_link": true
    },
    "kernelspec": {
      "name": "python3",
      "display_name": "Python 3"
    },
    "language_info": {
      "name": "python"
    }
  },
  "cells": [
    {
      "cell_type": "markdown",
      "metadata": {
        "id": "view-in-github",
        "colab_type": "text"
      },
      "source": [
        "<a href=\"https://colab.research.google.com/github/Goutham1812/Goutham1812/blob/main/Word_counter_Project_on_python.ipynb\" target=\"_parent\"><img src=\"https://colab.research.google.com/assets/colab-badge.svg\" alt=\"Open In Colab\"/></a>"
      ]
    },
    {
      "cell_type": "code",
      "source": [
        "f = open(\"/content/drive/MyDrive/Files Needed for python/Word counter python.txt\",\"r\")"
      ],
      "metadata": {
        "id": "1ZneOGRVoQYM"
      },
      "execution_count": 43,
      "outputs": []
    },
    {
      "cell_type": "code",
      "source": [
        "c = []\n",
        "for x in f:\n",
        "  print(x)\n",
        "  c.extend(x.split(' '))"
      ],
      "metadata": {
        "colab": {
          "base_uri": "https://localhost:8080/"
        },
        "id": "1MHSTKLYodvw",
        "outputId": "1e1debf0-d3d2-4075-d626-b732cffc731d"
      },
      "execution_count": 44,
      "outputs": [
        {
          "output_type": "stream",
          "name": "stdout",
          "text": [
            "Title: The Pinnacle of Programming: Python's Versatility and Impact Python, a high-level programming language, has become a cornerstone in the realm of computer science and software development. Its rise to prominence can be attributed to its simplicity, readability, and unparalleled versatility. With a syntax that prioritizes human readability, Python has become the go-to language for beginners and experts alike. One of Python's key strengths lies in its versatility, making it suitable for a wide range of applications. Whether it's web development, data analysis, artificial intelligence, or automation, Python has proven its adaptability. The language's extensive library ecosystem further enhances its capabilities, providing developers with a wealth of pre-built modules and tools, reducing the need for reinventing the wheel.\n",
            "\n",
            "Python's readability is a distinguishing factor that sets it apart from other programming languages. Its clear and concise syntax allows developers to express concepts in fewer lines of code compared to languages like C++ or Java. This readability not only accelerates development but also facilitates collaboration among programmers. The ease with which Python code can be understood and maintained has led to its adoption in various industries and academic institutions.\n",
            "\n",
            "Furthermore, Python's community-driven development model has played a pivotal role in its success. The open-source nature of the language encourages collaboration and continuous improvement. This vibrant community has contributed to the creation of a vast array of libraries, frameworks, and tools that cater to diverse needs.\n",
            "\n",
            "Python's impact extends beyond traditional software development. It has become a dominant force in emerging technologies like machine learning and artificial intelligence. Frameworks such as TensorFlow and PyTorch leverage Python's simplicity to accelerate the development of cutting-edge applications in these fields.\n",
            "\n",
            "In conclusion, Python's ascent to the summit of programming languages is no accident. Its versatility, readability, and community-driven development have made it a preferred choice for developers worldwide. As technology continues to advance, Python is poised to remain at the forefront, shaping the future of software development and innovation\n"
          ]
        }
      ]
    },
    {
      "cell_type": "code",
      "source": [
        "print(c)"
      ],
      "metadata": {
        "colab": {
          "base_uri": "https://localhost:8080/"
        },
        "id": "xIwyTjiRuixs",
        "outputId": "159ba9e9-072e-45e6-9f1b-0baa3ab81174"
      },
      "execution_count": 45,
      "outputs": [
        {
          "output_type": "stream",
          "name": "stdout",
          "text": [
            "['Title:', 'The', 'Pinnacle', 'of', 'Programming:', \"Python's\", 'Versatility', 'and', 'Impact', 'Python,', 'a', 'high-level', 'programming', 'language,', 'has', 'become', 'a', 'cornerstone', 'in', 'the', 'realm', 'of', 'computer', 'science', 'and', 'software', 'development.', 'Its', 'rise', 'to', 'prominence', 'can', 'be', 'attributed', 'to', 'its', 'simplicity,', 'readability,', 'and', 'unparalleled', 'versatility.', 'With', 'a', 'syntax', 'that', 'prioritizes', 'human', 'readability,', 'Python', 'has', 'become', 'the', 'go-to', 'language', 'for', 'beginners', 'and', 'experts', 'alike.', 'One', 'of', \"Python's\", 'key', 'strengths', 'lies', 'in', 'its', 'versatility,', 'making', 'it', 'suitable', 'for', 'a', 'wide', 'range', 'of', 'applications.', 'Whether', \"it's\", 'web', 'development,', 'data', 'analysis,', 'artificial', 'intelligence,', 'or', 'automation,', 'Python', 'has', 'proven', 'its', 'adaptability.', 'The', \"language's\", 'extensive', 'library', 'ecosystem', 'further', 'enhances', 'its', 'capabilities,', 'providing', 'developers', 'with', 'a', 'wealth', 'of', 'pre-built', 'modules', 'and', 'tools,', 'reducing', 'the', 'need', 'for', 'reinventing', 'the', 'wheel.\\n', \"Python's\", 'readability', 'is', 'a', 'distinguishing', 'factor', 'that', 'sets', 'it', 'apart', 'from', 'other', 'programming', 'languages.', 'Its', 'clear', 'and', 'concise', 'syntax', 'allows', 'developers', 'to', 'express', 'concepts', 'in', 'fewer', 'lines', 'of', 'code', 'compared', 'to', 'languages', 'like', 'C++', 'or', 'Java.', 'This', 'readability', 'not', 'only', 'accelerates', 'development', 'but', 'also', 'facilitates', 'collaboration', 'among', 'programmers.', 'The', 'ease', 'with', 'which', 'Python', 'code', 'can', 'be', 'understood', 'and', 'maintained', 'has', 'led', 'to', 'its', 'adoption', 'in', 'various', 'industries', 'and', 'academic', 'institutions.\\n', 'Furthermore,', \"Python's\", 'community-driven', 'development', 'model', 'has', 'played', 'a', 'pivotal', 'role', 'in', 'its', 'success.', 'The', 'open-source', 'nature', 'of', 'the', 'language', 'encourages', 'collaboration', 'and', 'continuous', 'improvement.', 'This', 'vibrant', 'community', 'has', 'contributed', 'to', 'the', 'creation', 'of', 'a', 'vast', 'array', 'of', 'libraries,', 'frameworks,', 'and', 'tools', 'that', 'cater', 'to', 'diverse', 'needs.\\n', \"Python's\", 'impact', 'extends', 'beyond', 'traditional', 'software', 'development.', 'It', 'has', 'become', 'a', 'dominant', 'force', 'in', 'emerging', 'technologies', 'like', 'machine', 'learning', 'and', 'artificial', 'intelligence.', 'Frameworks', 'such', 'as', 'TensorFlow', 'and', 'PyTorch', 'leverage', \"Python's\", 'simplicity', 'to', 'accelerate', 'the', 'development', 'of', 'cutting-edge', 'applications', 'in', 'these', 'fields.\\n', 'In', 'conclusion,', \"Python's\", 'ascent', 'to', 'the', 'summit', 'of', 'programming', 'languages', 'is', 'no', 'accident.', 'Its', 'versatility,', 'readability,', 'and', 'community-driven', 'development', 'have', 'made', 'it', 'a', 'preferred', 'choice', 'for', 'developers', 'worldwide.', 'As', 'technology', 'continues', 'to', 'advance,', 'Python', 'is', 'poised', 'to', 'remain', 'at', 'the', 'forefront,', 'shaping', 'the', 'future', 'of', 'software', 'development', 'and', 'innovation']\n"
          ]
        }
      ]
    },
    {
      "cell_type": "code",
      "source": [
        "# c is the list of words, then we need to count the words.\n",
        "d = len(c)\n",
        "print(\"Total No of Words:\",d)"
      ],
      "metadata": {
        "colab": {
          "base_uri": "https://localhost:8080/"
        },
        "id": "zyAxhxFzpzqi",
        "outputId": "47792ff0-89e8-4fef-d3f1-e7011cd8406c"
      },
      "execution_count": 46,
      "outputs": [
        {
          "output_type": "stream",
          "name": "stdout",
          "text": [
            "Total No of Words: 324\n"
          ]
        }
      ]
    }
  ]
}